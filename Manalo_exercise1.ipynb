{
  "cells": [
    {
      "cell_type": "markdown",
      "metadata": {
        "id": "h2vFiYhGzZOg"
      },
      "source": [
        "# Exercise 1"
      ]
    },
    {
      "cell_type": "markdown",
      "source": [
        "## Class Initialization"
      ],
      "metadata": {
        "id": "sRm6kPQozcaU"
      }
    },
    {
      "cell_type": "code",
      "execution_count": null,
      "metadata": {
        "id": "b1u4Dt9mzZOi"
      },
      "outputs": [],
      "source": [
        "class Node:\n",
        "    def __init__(self, data):\n",
        "        self.data = data\n",
        "        self.next = None\n",
        "        self.prev = None"
      ]
    },
    {
      "cell_type": "code",
      "execution_count": null,
      "metadata": {
        "id": "tigvHSaHzZOj"
      },
      "outputs": [],
      "source": [
        "class LinkedList:\n",
        "\n",
        "    def __init__(self):\n",
        "        self.head = None\n",
        "\n",
        "    def traverse(self, node):\n",
        "        while node:\n",
        "            print(node.data, end=\" -> \")\n",
        "            node = node.next"
      ]
    },
    {
      "cell_type": "code",
      "execution_count": null,
      "metadata": {
        "id": "LIkQBioVzZOk"
      },
      "outputs": [],
      "source": [
        "class DoublyLinkedList:\n",
        "\n",
        "    def __init__(self):\n",
        "        self.head = None\n",
        "\n",
        "    def traverse(self, node):\n",
        "        while node:\n",
        "            print(node.data, end=\" -> \")\n",
        "            node = node.next"
      ]
    },
    {
      "cell_type": "code",
      "execution_count": null,
      "metadata": {
        "id": "zlxNT5EozZOl"
      },
      "outputs": [],
      "source": [
        "class CircularLinkedList:\n",
        "\n",
        "    def __init__(self):\n",
        "        self.head = None\n",
        "\n",
        "    def traverse(self, node):\n",
        "\n",
        "        head = node\n",
        "\n",
        "        while node:\n",
        "            print(node.data, end=\" -> \")\n",
        "            node = node.next\n",
        "\n",
        "            # Break to prevent infinite loop\n",
        "            if node == head:\n",
        "                break"
      ]
    },
    {
      "cell_type": "markdown",
      "metadata": {
        "id": "O68-Q1-bzZOl"
      },
      "source": [
        "#### 1. Create a Singly Linked list\n",
        "\n",
        "- Each node should contain your name and your seatmates in your row\n",
        "- Create at least 5 nodes\n",
        "- Traverse all nodes"
      ]
    },
    {
      "cell_type": "code",
      "execution_count": 52,
      "metadata": {
        "id": "pTcx_OuPzZOl",
        "outputId": "acc66b19-a7aa-4b48-a8ca-2fcf820f8193",
        "colab": {
          "base_uri": "https://localhost:8080/"
        }
      },
      "outputs": [
        {
          "output_type": "stream",
          "name": "stdout",
          "text": [
            "Name: Jc\n",
            "Seatmates: Gavin 1, Texter 2\n",
            "Name: Jc\n",
            "Seatmates: Xeon 3, Adrian 4\n",
            "Name: Jc\n",
            "Seatmates: Sarah 5, Crissalyn 6\n",
            "Name: Jc\n",
            "Seatmates: Eli 7, Ej 8\n",
            "Name: Jc\n",
            "Seatmates: Julianne 9, Charlie 10\n"
          ]
        }
      ],
      "source": [
        "# put your code here\n",
        "class Node:\n",
        "    def __init__(self, name, seatmates):\n",
        "        self.name = name\n",
        "        self.seatmates = seatmates\n",
        "        self.next = None\n",
        "\n",
        "class LinkedList:\n",
        "    def __init__(self):\n",
        "        self.head = None\n",
        "\n",
        "    def insert(self, name, seatmates):\n",
        "        new_node = Node(name, seatmates)\n",
        "        if not self.head:\n",
        "            self.head = new_node\n",
        "        else:\n",
        "            current = self.head\n",
        "            while current.next:\n",
        "                current = current.next\n",
        "            current.next = new_node\n",
        "\n",
        "    def traverse(self):\n",
        "        current = self.head\n",
        "        while current:\n",
        "            print(f\"Name: {current.name}\\nSeatmates: {', '.join(current.seatmates)}\")\n",
        "            current = current.next\n",
        "\n",
        "# Create a linked list and insert nodes\n",
        "data = [(\"Jc\", [\"Gavin 1\", \"Texter 2\"]),\n",
        "        (\"Jc\", [\"Xeon 3\", \"Adrian 4\"]),\n",
        "        (\"Jc\", [\"Sarah 5\", \"Crissalyn 6\"]),\n",
        "        (\"Jc\", [\"Eli 7\", \"Ej 8\"]),\n",
        "        (\"Jc\", [\"Julianne 9\", \"Charlie 10\"])]\n",
        "\n",
        "linked_list = LinkedList()\n",
        "[linked_list.insert(name, seatmates) for name, seatmates in data]\n",
        "\n",
        "# Traverse and print the nodes\n",
        "linked_list.traverse()\n",
        "\n",
        "\n"
      ]
    },
    {
      "cell_type": "markdown",
      "metadata": {
        "id": "IFgwbdw_zZOm"
      },
      "source": [
        "#### 2. Create a Doubly Linked list\n",
        "\n",
        "- Each node should contain your name and your seatmates in your row\n",
        "- Create at least 5 nodes\n",
        "- Traverse all nodes"
      ]
    },
    {
      "cell_type": "code",
      "execution_count": 54,
      "metadata": {
        "id": "8kQD2A_QzZOm",
        "outputId": "c6e019b7-7abc-4303-f77d-7e634d3edeb2",
        "colab": {
          "base_uri": "https://localhost:8080/"
        }
      },
      "outputs": [
        {
          "output_type": "stream",
          "name": "stdout",
          "text": [
            "Traversing forwards:\n",
            "Name: Jc\n",
            "Seatmates: Gavin 1, Texter 2\n",
            "Name: Jc\n",
            "Seatmates: Xeon 3, Adrian 4\n",
            "Name: Jc\n",
            "Seatmates: Sarah 5, Crissalyn 6\n",
            "Name: Jc\n",
            "Seatmates: Eli 7, Ej 8\n",
            "Name: Jc\n",
            "Seatmates: Julianne 9, Charlie 10\n",
            "\n",
            "Traversing backwards:\n",
            "Name: Jc\n",
            "Seatmates: Gavin 1, Texter 2\n",
            "Name: Jc\n",
            "Seatmates: Gavin 1, Texter 2\n",
            "Name: Jc\n",
            "Seatmates: Xeon 3, Adrian 4\n",
            "Name: Jc\n",
            "Seatmates: Sarah 5, Crissalyn 6\n",
            "Name: Jc\n",
            "Seatmates: Eli 7, Ej 8\n",
            "Name: Jc\n",
            "Seatmates: Julianne 9, Charlie 10\n"
          ]
        }
      ],
      "source": [
        "# put your code here\n",
        "class Node:\n",
        "    def __init__(self, name, seatmates):\n",
        "        self.name = name\n",
        "        self.seatmates = seatmates\n",
        "        self.next = None\n",
        "        self.prev = None\n",
        "\n",
        "class DoublyLinkedList:\n",
        "    def __init__(self):\n",
        "        self.head = None\n",
        "\n",
        "    def insert(self, name, seatmates):\n",
        "        new_node = Node(name, seatmates)\n",
        "        current = self.head\n",
        "        if not current:\n",
        "            self.head = new_node\n",
        "        else:\n",
        "            while current.next:\n",
        "                current = current.next\n",
        "            current.next = new_node\n",
        "            new_node.prev = current\n",
        "\n",
        "    def traverse(self, reverse=False):\n",
        "        current = self.head\n",
        "        while current:\n",
        "            print(f\"Name: {current.name}\\nSeatmates: {', '.join(current.seatmates)}\")\n",
        "            current = current.prev if reverse else current.next\n",
        "\n",
        "# Create a doubly linked list and insert nodes\n",
        "data = [(\"Jc\", [\"Gavin 1\", \"Texter 2\"]),\n",
        "        (\"Jc\", [\"Xeon 3\", \"Adrian 4\"]),\n",
        "        (\"Jc\", [\"Sarah 5\", \"Crissalyn 6\"]),\n",
        "        (\"Jc\", [\"Eli 7\", \"Ej 8\"]),\n",
        "        (\"Jc\", [\"Julianne 9\", \"Charlie 10\"])]\n",
        "\n",
        "doubly_linked_list = DoublyLinkedList()\n",
        "[doubly_linked_list.insert(name, seatmates) for name, seatmates in data]\n",
        "\n",
        "# Traverse and print the nodes forwards\n",
        "print(\"Traversing forwards:\")\n",
        "doubly_linked_list.traverse()\n",
        "\n",
        "# Traverse and print the nodes backwards\n",
        "print(\"\\nTraversing backwards:\")\n",
        "doubly_linked_list.traverse(reverse=True)\n",
        "doubly_linked_list.traverse()  # To show that the list is reversed\n",
        "\n",
        "\n",
        "\n",
        "\n",
        "\n"
      ]
    },
    {
      "cell_type": "markdown",
      "metadata": {
        "id": "rtApbsCjzZOm"
      },
      "source": [
        "#### 3. Create a Circular Linked list\n",
        "\n",
        "- Each node should contain your name and your seatmates in your row\n",
        "- Create at least 5 nodes\n",
        "- Traverse all nodes"
      ]
    },
    {
      "cell_type": "code",
      "execution_count": 45,
      "metadata": {
        "id": "Gp1Oiq0jzZOn",
        "outputId": "e1d86fe1-84ba-41f7-d40d-afcd3a8dc5f2",
        "colab": {
          "base_uri": "https://localhost:8080/",
          "height": 765
        }
      },
      "outputs": [
        {
          "output_type": "stream",
          "name": "stdout",
          "text": [
            "Traversing forwards:\n",
            "Name: Jc\n",
            "Seatmates: Gavin 1, Texter 2\n",
            "Name: Jc\n",
            "Seatmates: Xeon 3, Adrian 4\n",
            "Name: Jc\n",
            "Seatmates: Sarah 5, Crissalyn 6\n",
            "Name: Jc\n",
            "Seatmates: Eli 7, Ej 8\n",
            "Name: Jc\n",
            "Seatmates: Julianne 9, Charlie 10\n",
            "\n",
            "Traversing backwards:\n",
            "Name: Jc\n",
            "Seatmates: Julianne 9, Charlie 10\n",
            "Name: Jc\n",
            "Seatmates: Eli 7, Ej 8\n",
            "Name: Jc\n",
            "Seatmates: Sarah 5, Crissalyn 6\n",
            "Name: Jc\n",
            "Seatmates: Xeon 3, Adrian 4\n",
            "Name: Jc\n",
            "Seatmates: Gavin 1, Texter 2\n"
          ]
        },
        {
          "output_type": "error",
          "ename": "AttributeError",
          "evalue": "ignored",
          "traceback": [
            "\u001b[0;31m---------------------------------------------------------------------------\u001b[0m",
            "\u001b[0;31mAttributeError\u001b[0m                            Traceback (most recent call last)",
            "\u001b[0;32m<ipython-input-45-09150ab7b221>\u001b[0m in \u001b[0;36m<cell line: 59>\u001b[0;34m()\u001b[0m\n\u001b[1;32m     57\u001b[0m \u001b[0mprint\u001b[0m\u001b[0;34m(\u001b[0m\u001b[0;34m\"\\nTraversing backwards:\"\u001b[0m\u001b[0;34m)\u001b[0m\u001b[0;34m\u001b[0m\u001b[0;34m\u001b[0m\u001b[0m\n\u001b[1;32m     58\u001b[0m \u001b[0mcircular_linked_list\u001b[0m\u001b[0;34m.\u001b[0m\u001b[0mtraverse_backward\u001b[0m\u001b[0;34m(\u001b[0m\u001b[0;34m)\u001b[0m\u001b[0;34m\u001b[0m\u001b[0;34m\u001b[0m\u001b[0m\n\u001b[0;32m---> 59\u001b[0;31m \u001b[0mcircular_linked_list\u001b[0m\u001b[0;34m.\u001b[0m\u001b[0mtraverse\u001b[0m\u001b[0;34m(\u001b[0m\u001b[0;34m)\u001b[0m  \u001b[0;31m# To show that the list is reversed\u001b[0m\u001b[0;34m\u001b[0m\u001b[0;34m\u001b[0m\u001b[0m\n\u001b[0m\u001b[1;32m     60\u001b[0m \u001b[0;34m\u001b[0m\u001b[0m\n\u001b[1;32m     61\u001b[0m \u001b[0;34m\u001b[0m\u001b[0m\n",
            "\u001b[0;32m<ipython-input-45-09150ab7b221>\u001b[0m in \u001b[0;36mtraverse\u001b[0;34m(self)\u001b[0m\n\u001b[1;32m     21\u001b[0m         \u001b[0mcurrent\u001b[0m \u001b[0;34m=\u001b[0m \u001b[0mself\u001b[0m\u001b[0;34m.\u001b[0m\u001b[0mhead\u001b[0m\u001b[0;34m\u001b[0m\u001b[0;34m\u001b[0m\u001b[0m\n\u001b[1;32m     22\u001b[0m         \u001b[0;32mwhile\u001b[0m \u001b[0;32mTrue\u001b[0m\u001b[0;34m:\u001b[0m\u001b[0;34m\u001b[0m\u001b[0;34m\u001b[0m\u001b[0m\n\u001b[0;32m---> 23\u001b[0;31m             \u001b[0mprint\u001b[0m\u001b[0;34m(\u001b[0m\u001b[0;34mf\"Name: {current.name}\\nSeatmates: {', '.join(current.seatmates)}\"\u001b[0m\u001b[0;34m)\u001b[0m\u001b[0;34m\u001b[0m\u001b[0;34m\u001b[0m\u001b[0m\n\u001b[0m\u001b[1;32m     24\u001b[0m             \u001b[0mcurrent\u001b[0m \u001b[0;34m=\u001b[0m \u001b[0mcurrent\u001b[0m\u001b[0;34m.\u001b[0m\u001b[0mnext\u001b[0m\u001b[0;34m\u001b[0m\u001b[0;34m\u001b[0m\u001b[0m\n\u001b[1;32m     25\u001b[0m             \u001b[0;32mif\u001b[0m \u001b[0mcurrent\u001b[0m \u001b[0;34m==\u001b[0m \u001b[0mself\u001b[0m\u001b[0;34m.\u001b[0m\u001b[0mhead\u001b[0m\u001b[0;34m:\u001b[0m\u001b[0;34m\u001b[0m\u001b[0;34m\u001b[0m\u001b[0m\n",
            "\u001b[0;31mAttributeError\u001b[0m: 'NoneType' object has no attribute 'name'"
          ]
        }
      ],
      "source": [
        "# put your code here\n",
        "class CircularLinkedList:\n",
        "    def __init__(self):\n",
        "        self.head = None\n",
        "\n",
        "    def insert(self, name, seatmates):\n",
        "        new_node = Node(name, seatmates)\n",
        "        if not self.head:\n",
        "            self.head = new_node\n",
        "            new_node.next = self.head\n",
        "        else:\n",
        "            current = self.head\n",
        "            while current.next != self.head:\n",
        "                current = current.next\n",
        "            current.next = new_node\n",
        "            new_node.next = self.head\n",
        "\n",
        "    def traverse(self):\n",
        "        if not self.head:\n",
        "            return\n",
        "        current = self.head\n",
        "        while True:\n",
        "            print(f\"Name: {current.name}\\nSeatmates: {', '.join(current.seatmates)}\")\n",
        "            current = current.next\n",
        "            if current == self.head:\n",
        "                break\n",
        "\n",
        "    def traverse_backward(self):\n",
        "        if not self.head:\n",
        "            return\n",
        "        current = self.head\n",
        "        prev_node = None\n",
        "        while True:\n",
        "            next_node = current.next\n",
        "            current.next = prev_node\n",
        "            prev_node = current\n",
        "            current = next_node\n",
        "            if current == self.head:\n",
        "                break\n",
        "        self.head = prev_node  # Update the head to the last node (previously first)\n",
        "\n",
        "# Create a circular linked list and insert nodes\n",
        "data = [(\"Jc\", [\"Gavin 1\", \"Texter 2\"]),\n",
        "        (\"Jc\", [\"Xeon 3\", \"Adrian 4\"]),\n",
        "        (\"Jc\", [\"Sarah 5\", \"Crissalyn 6\"]),\n",
        "        (\"Jc\", [\"Eli 7\", \"Ej 8\"]),\n",
        "        (\"Jc\", [\"Julianne 9\", \"Charlie 10\"])]\n",
        "\n",
        "circular_linked_list = CircularLinkedList()\n",
        "[circular_linked_list.insert(name, seatmates) for name, seatmates in data]\n",
        "\n",
        "# Traverse and print the nodes\n",
        "print(\"Traversing forwards:\")\n",
        "circular_linked_list.traverse()\n",
        "\n",
        "# Traverse and print the nodes backwards\n",
        "print(\"\\nTraversing backwards:\")\n",
        "circular_linked_list.traverse_backward()\n",
        "circular_linked_list.traverse()  # To show that the list is reversed\n",
        "\n",
        "\n"
      ]
    }
  ],
  "metadata": {
    "kernelspec": {
      "display_name": "Python 3",
      "language": "python",
      "name": "python3"
    },
    "language_info": {
      "name": "python",
      "version": "3.11.4"
    },
    "orig_nbformat": 4,
    "colab": {
      "provenance": []
    }
  },
  "nbformat": 4,
  "nbformat_minor": 0
}