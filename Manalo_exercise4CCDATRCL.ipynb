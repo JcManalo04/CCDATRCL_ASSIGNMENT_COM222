{
  "cells": [
    {
      "cell_type": "markdown",
      "metadata": {
        "id": "view-in-github"
      },
      "source": [
        "<a href=\"https://colab.research.google.com/github/robitussin/CCDATRCL_EXERCISES/blob/main/exercise4.ipynb\" target=\"_parent\"><img src=\"https://colab.research.google.com/assets/colab-badge.svg\" alt=\"Open In Colab\"/></a>"
      ]
    },
    {
      "cell_type": "markdown",
      "metadata": {
        "id": "fCO3VeNzvGDc"
      },
      "source": [
        "# Exercise 4"
      ]
    },
    {
      "cell_type": "markdown",
      "metadata": {
        "id": "UCFGr2qPKONg"
      },
      "source": [
        "#### Pre-defined sorting algorithms"
      ]
    },
    {
      "cell_type": "code",
      "execution_count": 18,
      "metadata": {
        "id": "dXWXOLWtKONg"
      },
      "outputs": [],
      "source": [
        "def mergeSort(array):\n",
        "    if len(array) > 1:\n",
        "\n",
        "        #  r is the point where the array is divided into two subarrays\n",
        "        r = len(array)//2\n",
        "        L = array[:r]\n",
        "        M = array[r:]\n",
        "\n",
        "        # Sort the two halves\n",
        "        mergeSort(L)\n",
        "        mergeSort(M)\n",
        "\n",
        "        i = j = k = 0\n",
        "\n",
        "        # Until we reach either end of either L or M, pick larger among\n",
        "        # elements L and M and place them in the correct position at A[p..r]\n",
        "        while i < len(L) and j < len(M):\n",
        "            if L[i] < M[j]:\n",
        "                array[k] = L[i]\n",
        "                i += 1\n",
        "            else:\n",
        "                array[k] = M[j]\n",
        "                j += 1\n",
        "            k += 1\n",
        "\n",
        "        # When we run out of elements in either L or M,\n",
        "        # pick up the remaining elements and put in A[p..r]\n",
        "        while i < len(L):\n",
        "            array[k] = L[i]\n",
        "            i += 1\n",
        "            k += 1\n",
        "\n",
        "        while j < len(M):\n",
        "            array[k] = M[j]\n",
        "            j += 1\n",
        "            k += 1\n",
        "\n",
        "# Print the array\n",
        "def printList(array):\n",
        "    for i in range(len(array)):\n",
        "        print(array[i], end=\" \")\n",
        "    print()"
      ]
    },
    {
      "cell_type": "code",
      "execution_count": 19,
      "metadata": {
        "id": "OB-JMVxvKONi"
      },
      "outputs": [],
      "source": [
        "def countingSort(array):\n",
        "    size = len(array)\n",
        "    output = [0] * size\n",
        "\n",
        "    # Initialize count array\n",
        "    count = [0] * 10\n",
        "\n",
        "    # Store the count of each elements in count array\n",
        "    for i in range(0, size):\n",
        "        count[array[i]] += 1\n",
        "\n",
        "    # Store the cummulative count\n",
        "    for i in range(1, 10):\n",
        "        count[i] += count[i - 1]\n",
        "\n",
        "    # Find the index of each element of the original array in count array\n",
        "    # place the elements in output array\n",
        "    i = size - 1\n",
        "    while i >= 0:\n",
        "        output[count[array[i]] - 1] = array[i]\n",
        "        count[array[i]] -= 1\n",
        "        i -= 1\n",
        "\n",
        "    # Copy the sorted elements into original array\n",
        "    for i in range(0, size):\n",
        "        array[i] = output[i]"
      ]
    },
    {
      "cell_type": "code",
      "execution_count": 20,
      "metadata": {
        "id": "VXaukk4_KONj"
      },
      "outputs": [],
      "source": [
        "def insertionSort(array):\n",
        "\n",
        "    for step in range(1, len(array)):\n",
        "        key = array[step]\n",
        "        j = step - 1\n",
        "\n",
        "        # Compare key with each element on the left of it until an element smaller than it is found\n",
        "        # For descending order, change key<array[j] to key>array[j].\n",
        "        while j >= 0 and key < array[j]:\n",
        "            array[j + 1] = array[j]\n",
        "            j = j - 1\n",
        "\n",
        "        # Place key at after the element just smaller than it.\n",
        "        array[j + 1] = key"
      ]
    },
    {
      "cell_type": "code",
      "execution_count": 21,
      "metadata": {
        "id": "b4yWHH1nKONj"
      },
      "outputs": [],
      "source": [
        "# Bubble sort in Python\n",
        "def bubbleSort(array):\n",
        "\n",
        "  # loop to access each array element\n",
        "  for i in range(len(array)):\n",
        "\n",
        "    # loop to compare array elements\n",
        "    for j in range(0, len(array) - i - 1):\n",
        "\n",
        "      # compare two adjacent elements\n",
        "      # change > to < to sort in descending order\n",
        "      if array[j] > array[j + 1]:\n",
        "\n",
        "        # swapping elements if elements\n",
        "        # are not in the intended order\n",
        "        temp = array[j]\n",
        "        array[j] = array[j+1]\n",
        "        array[j+1] = temp"
      ]
    },
    {
      "cell_type": "markdown",
      "metadata": {
        "id": "6j9PZVsyvGDe"
      },
      "source": [
        "#### 1. Sort your **student number** in **ascending order**\n",
        "\n",
        "Example:\n",
        "\n",
        "**Input: 2022123456**\n",
        "\n",
        "**Output: 0122223456**"
      ]
    },
    {
      "cell_type": "code",
      "execution_count": 22,
      "metadata": {
        "id": "UuNMRCm3vGDe",
        "colab": {
          "base_uri": "https://localhost:8080/"
        },
        "outputId": "50d21b8f-eacd-4445-a32c-fdcab122d4c1"
      },
      "outputs": [
        {
          "output_type": "stream",
          "name": "stdout",
          "text": [
            "11222256\n"
          ]
        }
      ],
      "source": [
        "# put your answer here\n",
        "# Input student number as a string\n",
        "student_number = \"2021102256\"\n",
        "\n",
        "# Sort the characters in ascending order\n",
        "sorted_number = \"\".join(sorted(student_number))\n",
        "\n",
        "# Convert the sorted string back to an integer\n",
        "sorted_student_number = int(sorted_number)\n",
        "\n",
        "# Print the sorted student number\n",
        "print(sorted_student_number)"
      ]
    },
    {
      "cell_type": "markdown",
      "metadata": {
        "id": "felukBjnvGDf"
      },
      "source": [
        "#### 2. Sort the **dates** in **ascending order**.\n",
        "\n",
        "dates = [\"12-25-2023\", birthday, \"01-01-2023\"]\n",
        "\n",
        "Enter your birthday in the birthday variable."
      ]
    },
    {
      "cell_type": "code",
      "execution_count": 23,
      "metadata": {
        "id": "f8xQ3N0jvGDg",
        "colab": {
          "base_uri": "https://localhost:8080/"
        },
        "outputId": "ac54cb9d-be95-4b92-bda9-fe3f0f2423be"
      },
      "outputs": [
        {
          "output_type": "stream",
          "name": "stdout",
          "text": [
            "['04-14-2003', '01-01-2023', '12-25-2023']\n"
          ]
        }
      ],
      "source": [
        "# put your answer here\n",
        "# Define your birthday in the \"MM-DD-YYYY\" format\n",
        "birthday = \"04-14-2003\"\n",
        "\n",
        "# Given list of dates\n",
        "dates = [\"12-25-2023\", birthday, \"01-01-2023\"]\n",
        "\n",
        "# Parse the dates using datetime and sort them\n",
        "sorted_dates = sorted(dates, key=lambda x: datetime.strptime(x, \"%m-%d-%Y\"))\n",
        "\n",
        "# Print the sorted dates as a list\n",
        "print(sorted_dates)"
      ]
    },
    {
      "cell_type": "markdown",
      "metadata": {
        "id": "IFDPeGZxvGDg"
      },
      "source": [
        "#### 3. Count the **total number of swaps** to sort the list below using **Bubble Sort**\n",
        "\n",
        "|3|2|5|1|4|\n",
        "|---|----|---|---|---|"
      ]
    },
    {
      "cell_type": "code",
      "execution_count": 24,
      "metadata": {
        "id": "b1ppwLcevGDg",
        "outputId": "4d87a84e-0ea9-4060-816b-c1f537afd5c5",
        "colab": {
          "base_uri": "https://localhost:8080/"
        }
      },
      "outputs": [
        {
          "output_type": "stream",
          "name": "stdout",
          "text": [
            "[1, 2, 3, 4, 5]\n",
            "5\n"
          ]
        }
      ],
      "source": [
        "# put your answer here\n",
        "def bubble_sort(arr):\n",
        "    n = len(arr)\n",
        "    swaps = 0\n",
        "\n",
        "    for i in range(n):\n",
        "        for j in range(0, n-i-1):\n",
        "            if arr[j] > arr[j+1]:\n",
        "                arr[j], arr[j+1] = arr[j+1], arr[j]  # Swap elements\n",
        "                swaps += 1\n",
        "\n",
        "    return swaps\n",
        "\n",
        "# Given list\n",
        "arr = [3, 2, 5, 1, 4]\n",
        "\n",
        "# Count the total number of swaps required to sort the list\n",
        "total_swaps = bubble_sort(arr)\n",
        "\n",
        "# Print the sorted list and the total number of swaps\n",
        "print(sorted(arr))\n",
        "print(total_swaps)"
      ]
    },
    {
      "cell_type": "markdown",
      "metadata": {
        "id": "iO2UusQWvGDi"
      },
      "source": [
        "#### 4. Count the **total number of steps** to sort the list below using **Insertion Sort**\n",
        "\n",
        "\n",
        "|6|2|5|7|4|1|8|9|3|\n",
        "|---|---|---|---|---|---|---|---|---|"
      ]
    },
    {
      "cell_type": "code",
      "execution_count": 25,
      "metadata": {
        "id": "vq1PYEjmvGDi",
        "outputId": "705ac842-9038-4b72-8ac5-1f23e19af13f",
        "colab": {
          "base_uri": "https://localhost:8080/"
        }
      },
      "outputs": [
        {
          "output_type": "stream",
          "name": "stdout",
          "text": [
            "[1, 2, 3, 4, 5, 6, 7, 8, 9]\n",
            "16\n"
          ]
        }
      ],
      "source": [
        "# put your answer here\n",
        "def insertion_sort_steps(arr):\n",
        "    steps = 0\n",
        "\n",
        "    for i in range(1, len(arr)):\n",
        "        key = arr[i]\n",
        "        j = i - 1\n",
        "\n",
        "        while j >= 0 and key < arr[j]:\n",
        "            arr[j + 1] = arr[j]\n",
        "            j -= 1\n",
        "            steps += 1\n",
        "\n",
        "        arr[j + 1] = key\n",
        "\n",
        "    return steps\n",
        "\n",
        "# Given list\n",
        "arr = [6, 2, 5, 7, 4, 1, 8, 9, 3]\n",
        "\n",
        "# Count the total number of steps required to sort the list using Insertion Sort\n",
        "numberofsteps = insertion_sort_steps(arr)\n",
        "\n",
        "# Print the sorted list and the total number of steps\n",
        "sorted_arr = sorted(arr)\n",
        "print(sorted_arr)\n",
        "print(numberofsteps)"
      ]
    },
    {
      "cell_type": "markdown",
      "metadata": {
        "id": "jpfNCCdbvGDj"
      },
      "source": [
        "#### 5. Given the list below:\n",
        "\n",
        "\n",
        "|7|5|4|3|2|5|1|8|\n",
        "|---|---|---|---|---|---|---|---|\n",
        "\n",
        "Using **merge sort** and **counting sort**\n",
        "\n",
        "Determine which sorting algorithm is faster by counting the total number of steps for each algorithm\n"
      ]
    },
    {
      "cell_type": "code",
      "execution_count": 26,
      "metadata": {
        "id": "2YVK17cSvGDj",
        "outputId": "0fa3b0f3-10e5-4394-8e8c-ac41cf489286",
        "colab": {
          "base_uri": "https://localhost:8080/"
        }
      },
      "outputs": [
        {
          "output_type": "stream",
          "name": "stdout",
          "text": [
            "16\n",
            "16\n",
            "Counting Sort is faster\n"
          ]
        }
      ],
      "source": [
        "# put your answer here\n",
        "\n",
        "def merge_sort_steps(arr):\n",
        "    steps = 0\n",
        "\n",
        "    if len(arr) > 1:\n",
        "        mid = len(arr) // 2\n",
        "        left_half = arr[:mid]\n",
        "        right_half = arr[mid:]\n",
        "\n",
        "        steps += merge_sort_steps(left_half)\n",
        "        steps += merge_sort_steps(right_half)\n",
        "\n",
        "        i = j = k = 0\n",
        "\n",
        "        while i < len(left_half) and j < len(right_half):\n",
        "            if left_half[i] < right_half[j]:\n",
        "                arr[k] = left_half[i]\n",
        "                i += 1\n",
        "            else:\n",
        "                arr[k] = right_half[j]\n",
        "                j += 1\n",
        "            k += 1\n",
        "            steps += 1\n",
        "\n",
        "        while i < len(left_half):\n",
        "            arr[k] = left_half[i]\n",
        "            i += 1\n",
        "            k += 1\n",
        "\n",
        "        while j < len(right_half):\n",
        "            arr[k] = right_half[j]\n",
        "            j += 1\n",
        "            k += 1\n",
        "\n",
        "    return steps\n",
        "\n",
        "def counting_sort_steps(arr):\n",
        "    max_val = max(arr)\n",
        "    min_val = min(arr)\n",
        "    range_val = max_val - min_val + 1\n",
        "    counting_sort_num_steps = 0\n",
        "\n",
        "    count_arr = [0] * range_val\n",
        "    output_arr = [0] * len(arr)\n",
        "\n",
        "    for num in arr:\n",
        "        counting_sort_num_steps += 1\n",
        "        count_arr[num - min_val] += 1\n",
        "\n",
        "    for i in range(1, len(count_arr)):\n",
        "        count_arr[i] += count_arr[i - 1]\n",
        "\n",
        "    for i in range(len(arr) - 1, -1, -1):\n",
        "        counting_sort_num_steps += 1\n",
        "        output_arr[count_arr[arr[i] - min_val] - 1] = arr[i]\n",
        "        count_arr[arr[i] - min_val] -= 1\n",
        "\n",
        "    for i in range(len(arr)):\n",
        "        arr[i] = output_arr[i]\n",
        "\n",
        "    return counting_sort_num_steps\n",
        "\n",
        "# Given list\n",
        "arr = [7, 5, 4, 3, 2, 5, 1, 8]\n",
        "\n",
        "# Clone the original list for counting sort since it modifies the list\n",
        "counting_sort_arr = arr.copy()\n",
        "\n",
        "# Count the total number of steps for Merge Sort and Counting Sort\n",
        "merge_sort_num_steps = merge_sort_steps(arr.copy())\n",
        "counting_sort_num_steps = counting_sort_steps(counting_sort_arr)\n",
        "\n",
        "# Print the number of steps for each algorithm and which one is faster\n",
        "print(merge_sort_num_steps)\n",
        "print(counting_sort_num_steps)\n",
        "\n",
        "if merge_sort_num_steps < counting_sort_num_steps:\n",
        "    print(\"Merge Sort is faster\")\n",
        "else:\n",
        "    print(\"Counting Sort is faster\")"
      ]
    }
  ],
  "metadata": {
    "colab": {
      "provenance": []
    },
    "kernelspec": {
      "display_name": "Python 3",
      "language": "python",
      "name": "python3"
    },
    "language_info": {
      "codemirror_mode": {
        "name": "ipython",
        "version": 3
      },
      "file_extension": ".py",
      "mimetype": "text/x-python",
      "name": "python",
      "nbconvert_exporter": "python",
      "pygments_lexer": "ipython3",
      "version": "3.11.4"
    },
    "orig_nbformat": 4
  },
  "nbformat": 4,
  "nbformat_minor": 0
}