{
  "cells": [
    {
      "cell_type": "markdown",
      "metadata": {
        "id": "view-in-github"
      },
      "source": [
        "<a href=\"https://colab.research.google.com/github/robitussin/CCDATRCL_EXERCISES/blob/main/exercise3.ipynb\" target=\"_parent\"><img src=\"https://colab.research.google.com/assets/colab-badge.svg\" alt=\"Open In Colab\"/></a>"
      ]
    },
    {
      "cell_type": "markdown",
      "metadata": {
        "id": "lAjYLLwOH311"
      },
      "source": [
        "# Exercise 3"
      ]
    },
    {
      "cell_type": "markdown",
      "metadata": {
        "id": "tXX_NU2iH313"
      },
      "source": [
        "#### Pre-defined classes"
      ]
    },
    {
      "cell_type": "markdown",
      "metadata": {
        "id": "ltYCu24VH314"
      },
      "source": [
        "Pre-defined Queue class"
      ]
    },
    {
      "cell_type": "code",
      "execution_count": 23,
      "metadata": {
        "id": "LLRrXaq0H315"
      },
      "outputs": [],
      "source": [
        "class Queue:\n",
        "    def __init__(self):\n",
        "        self.queue = []\n",
        "\n",
        "    # Add an element\n",
        "    def enqueue(self, item):\n",
        "        self.queue.append(item)\n",
        "\n",
        "    # Remove an element\n",
        "    def dequeue(self):\n",
        "        if len(self.queue) < 1:\n",
        "            return None\n",
        "        return self.queue.pop(0)\n",
        "\n",
        "    # Display  the queue\n",
        "    def display(self):\n",
        "        print(self.queue)\n",
        "\n",
        "    def size(self):\n",
        "        return len(self.queue)\n",
        "\n",
        "    def peek(self):\n",
        "        return self.queue[0]\n"
      ]
    },
    {
      "cell_type": "markdown",
      "metadata": {
        "id": "jnuMULQaH316"
      },
      "source": [
        "Pre-defined Deque class"
      ]
    },
    {
      "cell_type": "code",
      "execution_count": 24,
      "metadata": {
        "id": "wBc0RG1fH316"
      },
      "outputs": [],
      "source": [
        "class Deque:\n",
        "    def __init__(self):\n",
        "        self.items = []\n",
        "\n",
        "    def isEmpty(self):\n",
        "        return self.items == []\n",
        "\n",
        "    def addRear(self, item):\n",
        "        self.items.append(item)\n",
        "\n",
        "    def addFront(self, item):\n",
        "        self.items.insert(0, item)\n",
        "\n",
        "    def removeFront(self):\n",
        "        return self.items.pop(0)\n",
        "\n",
        "    def removeRear(self):\n",
        "        return self.items.pop()\n",
        "\n",
        "    def size(self):\n",
        "        return len(self.items)"
      ]
    },
    {
      "cell_type": "markdown",
      "metadata": {
        "id": "m8lu62aFH317"
      },
      "source": [
        "Pre-defined Circular Queue class"
      ]
    },
    {
      "cell_type": "code",
      "execution_count": 25,
      "metadata": {
        "id": "4Mix-CCuH317"
      },
      "outputs": [],
      "source": [
        "class CircularQueue():\n",
        "\n",
        "    def __init__(self, k):\n",
        "        self.k = k\n",
        "        self.queue = [None] * k\n",
        "        self.head = self.tail = -1\n",
        "\n",
        "    # Insert an element into the circular queue\n",
        "    def enqueue(self, data):\n",
        "\n",
        "        if ((self.tail + 1) % self.k == self.head):\n",
        "            print(\"The circular queue is full\\n\")\n",
        "\n",
        "        elif (self.head == -1):\n",
        "            self.head = 0\n",
        "            self.tail = 0\n",
        "            self.queue[self.tail] = data\n",
        "        else:\n",
        "            self.tail = (self.tail + 1) % self.k\n",
        "            self.queue[self.tail] = data\n",
        "\n",
        "    # Delete an element from the circular queue\n",
        "    def dequeue(self):\n",
        "        if (self.head == -1):\n",
        "            print(\"The circular queue is empty\\n\")\n",
        "\n",
        "        elif (self.head == self.tail):\n",
        "            temp = self.queue[self.head]\n",
        "            self.head = -1\n",
        "            self.tail = -1\n",
        "            return temp\n",
        "        else:\n",
        "            temp = self.queue[self.head]\n",
        "            self.head = (self.head + 1) % self.k\n",
        "            return temp\n",
        "\n",
        "    def printCQueue(self):\n",
        "        if(self.head == -1):\n",
        "            print(\"No element in the circular queue\")\n",
        "\n",
        "        elif (self.tail >= self.head):\n",
        "            for i in range(self.head, self.tail + 1):\n",
        "                print(self.queue[i], end=\" \")\n",
        "            print()\n",
        "        else:\n",
        "            for i in range(self.head, self.k):\n",
        "                print(self.queue[i], end=\" \")\n",
        "            for i in range(0, self.tail + 1):\n",
        "                print(self.queue[i], end=\" \")\n",
        "            print()\n"
      ]
    },
    {
      "cell_type": "markdown",
      "metadata": {
        "id": "2zf4LyQUH318"
      },
      "source": [
        "Pre-defined Priority Queue Class"
      ]
    },
    {
      "cell_type": "code",
      "execution_count": 26,
      "metadata": {
        "id": "jeDxl_FPH319"
      },
      "outputs": [],
      "source": [
        "class PriorityQueueNode:\n",
        "    def __init__(self, value, pr):\n",
        "\n",
        "        self.data = value\n",
        "        self.priority = pr\n",
        "        self.next = None"
      ]
    },
    {
      "cell_type": "code",
      "execution_count": 27,
      "metadata": {
        "id": "NqqkjkixH319"
      },
      "outputs": [],
      "source": [
        "class PriorityQueue:\n",
        "\n",
        "\tdef __init__(self):\n",
        "\n",
        "\t\tself.front = None\n",
        "\n",
        "\t# Method to check Priority Queue is Empty\n",
        "\t# or not if Empty then it will return True\n",
        "\t# Otherwise False\n",
        "\tdef isEmpty(self):\n",
        "\n",
        "\t\treturn True if self.front == None else False\n",
        "\n",
        "\t# Method to add items in Priority Queue\n",
        "\t# According to their priority value\n",
        "\tdef push(self, value, priority):\n",
        "\n",
        "\t\t# Condition check for checking Priority\n",
        "\t\t# Queue is empty or not\n",
        "\t\tif self.isEmpty() == True:\n",
        "\n",
        "\t\t\t# Creating a new node and assigning\n",
        "\t\t\t# it to class variable\n",
        "\t\t\tself.front = PriorityQueueNode(value, priority)\n",
        "\n",
        "\t\t\t# Returning 1 for successful execution\n",
        "\t\t\treturn 1\n",
        "\n",
        "\t\telse:\n",
        "\n",
        "\t\t\t# Special condition check to see that\n",
        "\t\t\t# first node priority value\n",
        "\t\t\tif self.front.priority > priority:\n",
        "\t\t\t\t# Creating a new node\n",
        "\t\t\t\tnewNode = PriorityQueueNode(value, priority)\n",
        "\t\t\t\t# Updating the new node next value\n",
        "\t\t\t\tnewNode.next = self.front\n",
        "\n",
        "\t\t\t\t# Assigning it to self.front\n",
        "\t\t\t\tself.front = newNode\n",
        "\n",
        "\t\t\t\t# Returning 1 for successful execution\n",
        "\t\t\t\treturn 1\n",
        "\n",
        "\t\t\telse:\n",
        "\n",
        "\t\t\t\t# Traversing through Queue until it\n",
        "\t\t\t\t# finds the next smaller priority node\n",
        "\t\t\t\ttemp = self.front\n",
        "\n",
        "\t\t\t\twhile temp.next:\n",
        "\t\t\t\t\t# If same priority node found then current\n",
        "\t\t\t\t\t# node will come after previous node\n",
        "\t\t\t\t\tif priority <= temp.next.priority:\n",
        "\t\t\t\t\t\tbreak\n",
        "\n",
        "\t\t\t\t\ttemp = temp.next\n",
        "\n",
        "\t\t\t\tnewNode = PriorityQueueNode(value, priority)\n",
        "\t\t\t\tnewNode.next = temp.next\n",
        "\t\t\t\ttemp.next = newNode\n",
        "\n",
        "\t\t\t\t# Returning 1 for successful execution\n",
        "\t\t\t\treturn 1\n",
        "\n",
        "\t# Method to remove high priority item\n",
        "\t# from the Priority Queue\n",
        "\tdef pop(self):\n",
        "\n",
        "\t\t# Condition check for checking\n",
        "\t\t# Priority Queue is empty or not\n",
        "\t\tif self.isEmpty() == True:\n",
        "\t\t\treturn\n",
        "\t\telse:\n",
        "\t\t\t# Removing high priority node from\n",
        "\t\t\t# Priority Queue, and updating front\n",
        "\t\t\t# with next node\n",
        "\t\t\tself.front = self.front.next\n",
        "\t\t\treturn 1\n",
        "\n",
        "\t# Method to return high priority node\n",
        "\t# value Not removing it\n",
        "\tdef peek(self):\n",
        "\t\t# Condition check for checking Priority\n",
        "\t\t# Queue is empty or not\n",
        "\t\tif self.isEmpty() == True:\n",
        "\t\t\treturn\n",
        "\t\telse:\n",
        "\t\t\treturn self.front.data\n",
        "\n",
        "\t# Method to Traverse through Priority\n",
        "\t# Queue\n",
        "\tdef traverse(self):\n",
        "\t\t# Condition check for checking Priority\n",
        "\t\t# Queue is empty or not\n",
        "\t\tif self.isEmpty() == True:\n",
        "\t\t\treturn \"Queue is Empty!\"\n",
        "\t\telse:\n",
        "\t\t\ttemp = self.front\n",
        "\t\t\twhile temp:\n",
        "\t\t\t\tprint(temp.data, end=\" \")\n",
        "\t\t\t\ttemp = temp.next\n"
      ]
    },
    {
      "cell_type": "markdown",
      "metadata": {
        "id": "3gBSw52DH31-"
      },
      "source": [
        "#### 1. Create a Queue\n",
        "\n",
        "- Each element should contain your name and your other classmates\n",
        "- There should be at least 5 elements in the queue\n",
        "- Put yourself at the end of the queue\n",
        "- Print all elements in the queue"
      ]
    },
    {
      "cell_type": "code",
      "execution_count": 28,
      "metadata": {
        "id": "NDJhWs61H31-",
        "colab": {
          "base_uri": "https://localhost:8080/"
        },
        "outputId": "5c00c780-c411-4aca-f4f2-b93b824ba75d"
      },
      "outputs": [
        {
          "output_type": "stream",
          "name": "stdout",
          "text": [
            "Adrian Eli Gavin Texter Xeon\n"
          ]
        }
      ],
      "source": [
        "# put your answer here\n",
        "# Create a queue (implemented using a list)\n",
        "queue = []\n",
        "\n",
        "# Add elements to the queue\n",
        "queue.append([\"Adrian\"])\n",
        "queue.append([\"Eli\"])\n",
        "queue.append([\"Gavin\"])\n",
        "queue.append([\"Texter\"])\n",
        "queue.append([\"Xeon\"])\n",
        "\n",
        "# Display the elements in the queue horizontally\n",
        "print(\" \".join(element[0] for element in queue))"
      ]
    },
    {
      "cell_type": "markdown",
      "metadata": {
        "id": "Mt4K9DTyH31_"
      },
      "source": [
        "#### 2. Create a Deque\n",
        "\n",
        "Given the queue below,\n",
        "\n",
        "**Queue:**\n",
        "\n",
        "| Cat | Dog | Rabbit | Bird | Hamster\n",
        "| --- | --- | --- | --- | --- |\n",
        "\n",
        "**dequeue** each element and insert them into a **Deque** in the following order below:\n",
        "\n",
        "**Deque:**\n",
        "\n",
        "| Hamster | Bird | Rabbit | Dog | Cat\n",
        "| --- | --- | --- | --- | --- |\n",
        "\n",
        "**Expected output:**\n",
        "\n",
        "['Hamster','Bird', 'Rabbit', 'Dog', 'Cat']"
      ]
    },
    {
      "cell_type": "code",
      "execution_count": 29,
      "metadata": {
        "id": "WNWg_tM9H31_",
        "colab": {
          "base_uri": "https://localhost:8080/"
        },
        "outputId": "28dbc5fd-da0d-4bc8-dd1b-bce18358934c"
      },
      "outputs": [
        {
          "output_type": "stream",
          "name": "stdout",
          "text": [
            "['Hamster', 'Bird', 'Rabbit', 'Dog', 'Cat']\n"
          ]
        }
      ],
      "source": [
        "# put your answer here\n",
        "class Deque:\n",
        "    def __init__(self):\n",
        "        self.items = []\n",
        "\n",
        "    def isEmpty(self):\n",
        "        return self.items == []\n",
        "\n",
        "    def addRear(self, item):\n",
        "        self.items.append(item)\n",
        "\n",
        "    def addFront(self, item):\n",
        "        self.items.insert(0, item)\n",
        "\n",
        "    def removeFront(self):\n",
        "        return self.items.pop(0)\n",
        "\n",
        "    def removeRear(self):\n",
        "        return self.items.pop()\n",
        "\n",
        "    def size(self):\n",
        "        return len(self.items)\n",
        "\n",
        "# Given queue\n",
        "queue = [\"Cat\", \"Dog\", \"Rabbit\", \"Bird\", \"Hamster\"]\n",
        "\n",
        "# Create a Deque\n",
        "deque = Deque()\n",
        "\n",
        "# Dequeue each element and insert them into the Deque in the specified order\n",
        "while queue:\n",
        "    element = queue.pop()  # Dequeue from the rear of the queue\n",
        "    deque.addRear(element)\n",
        "\n",
        "# Print the Deque as a list\n",
        "print(list(deque.items))"
      ]
    },
    {
      "cell_type": "markdown",
      "metadata": {
        "id": "aq19qazZH32A"
      },
      "source": [
        "#### 3. Create a Circular Queue\n",
        "\n",
        "Given the queue below,\n",
        "\n",
        "**Queue:**\n",
        "\n",
        "| I | II | III | IV | V | VI | VII | VIII | IX | X | XI | XII\n",
        "| --- | --- | --- | --- | --- | --- | --- | --- | --- | --- | --- | --- |\n",
        "\n",
        "**dequeue** each element and insert them into a **Circular Queue** in the following order below:\n",
        "\n",
        "**Circular Queue:**\n",
        "\n",
        "<img src=\"clock.jpg\"/>\n",
        "\n",
        "**Expected output:**\n",
        "\n",
        "I II III IV V VI VII VIII IX X XI XII"
      ]
    },
    {
      "cell_type": "code",
      "execution_count": 30,
      "metadata": {
        "id": "FI0VQ8ozH32A",
        "colab": {
          "base_uri": "https://localhost:8080/"
        },
        "outputId": "12f5ed3f-7e78-4320-8b46-cb02d393dd5b"
      },
      "outputs": [
        {
          "output_type": "stream",
          "name": "stdout",
          "text": [
            "I II III IV V VI VII VIII IX X XI XII \n"
          ]
        }
      ],
      "source": [
        "# put your answer here\n",
        "class CircularQueue:\n",
        "    def __init__(self):\n",
        "        self.queue = []\n",
        "\n",
        "    def isEmpty(self):\n",
        "        return len(self.queue) == 0\n",
        "\n",
        "    def enqueue(self, item):\n",
        "        self.queue.append(item)\n",
        "\n",
        "    def dequeue(self):\n",
        "        if not self.isEmpty():\n",
        "            return self.queue.pop(0)\n",
        "        else:\n",
        "            return None\n",
        "\n",
        "# Given queue\n",
        "queue = [\"I\", \"II\", \"III\", \"IV\", \"V\", \"VI\", \"VII\", \"VIII\", \"IX\", \"X\", \"XI\", \"XII\"]\n",
        "\n",
        "# Create a Circular Queue\n",
        "circular_queue = CircularQueue()\n",
        "\n",
        "# Dequeue each element and insert them into the Circular Queue in the specified order\n",
        "for item in queue:\n",
        "    circular_queue.enqueue(item)\n",
        "\n",
        "# Dequeue and print elements from the Circular Queue\n",
        "while not circular_queue.isEmpty():\n",
        "    print(circular_queue.dequeue(), end=\" \")\n",
        "\n",
        "print()"
      ]
    },
    {
      "cell_type": "markdown",
      "metadata": {
        "id": "S_hegiH9H32B"
      },
      "source": [
        "#### 4. Create a Priority Queue\n",
        "\n",
        "Given the queue below,\n",
        "\n",
        "**Queue:**\n",
        "\n",
        "| Cat | Dog | Rabbit | Bird | Hamster\n",
        "| --- | --- | --- | --- | --- |\n",
        "\n",
        "\n",
        "**dequeue** each element and insert them into a **Priority Queue** with the following priority values\n",
        "\n",
        "**Priority Queue:**\n",
        "\n",
        "| Element | Priority |\n",
        "| --- | --- |\n",
        "| Hamster |  0 |\n",
        "| Bird |  1 |\n",
        "| Rabbit |  2 |\n",
        "| Dog |  3 |\n",
        "| Cat |  4 |\n",
        "\n",
        "**Expected output:**\n",
        "\n",
        "Hamster Bird Rabbit Dog Cat"
      ]
    },
    {
      "cell_type": "code",
      "execution_count": 31,
      "metadata": {
        "id": "shAslZZjH32C",
        "colab": {
          "base_uri": "https://localhost:8080/"
        },
        "outputId": "032142ef-9808-4d34-945a-f79ffb918565"
      },
      "outputs": [
        {
          "output_type": "stream",
          "name": "stdout",
          "text": [
            "Hamster Bird Rabbit Dog Cat \n"
          ]
        }
      ],
      "source": [
        "# put your answer here\n",
        "# Define a Priority Queue class\n",
        "class PriorityQueue:\n",
        "    def __init__(self):\n",
        "        self.queue = []\n",
        "\n",
        "    def push(self, element, priority):\n",
        "        self.queue.append((element, priority))\n",
        "\n",
        "    def pop(self):\n",
        "        if not self.is_empty():\n",
        "            # Sort the queue by priority and element (to handle equal priorities)\n",
        "            self.queue.sort(key=lambda x: (x[1], x[0]))\n",
        "            return self.queue.pop(0)\n",
        "\n",
        "    def is_empty(self):\n",
        "        return len(self.queue) == 0\n",
        "\n",
        "# Given queue\n",
        "queue = [\"Cat\", \"Dog\", \"Rabbit\", \"Bird\", \"Hamster\"]\n",
        "\n",
        "# Create a Priority Queue\n",
        "priority_queue = PriorityQueue()\n",
        "\n",
        "# Define the priority values\n",
        "priority_values = {\n",
        "    \"Hamster\": 0,\n",
        "    \"Bird\": 1,\n",
        "    \"Rabbit\": 2,\n",
        "    \"Dog\": 3,\n",
        "    \"Cat\": 4,\n",
        "}\n",
        "\n",
        "# Dequeue each element and insert them into the Priority Queue with specified priority values\n",
        "for element in queue:\n",
        "    priority_queue.push(element, priority_values[element])\n",
        "\n",
        "# Dequeue and print elements from the Priority Queue\n",
        "while not priority_queue.is_empty():\n",
        "    element, _ = priority_queue.pop()\n",
        "    print(element, end=\" \")\n",
        "\n",
        "print()"
      ]
    },
    {
      "cell_type": "markdown",
      "metadata": {
        "id": "BUCV9mH5H32C"
      },
      "source": [
        "#### 5. Create a Sorted Circular Queue\n",
        "\n",
        "Given the queue below,\n",
        "\n",
        "**Queue:**\n",
        "\n",
        "| 1 | 5 | 3 | 2 | 7 | 8 | 10 | 11 | 6 | 4 | 12 | 9\n",
        "| --- | --- | --- | --- | --- | --- | --- | --- | --- | --- | --- | --- |\n",
        "\n",
        "\n",
        "**dequeue** each element and insert them into a **Circular Queue** in the following order below:\n",
        "\n",
        "**Circular Queue:**\n",
        "\n",
        "<img src=\"clock1.png\"/>\n",
        "\n",
        "**Expected output:**\n",
        "\n",
        "1 2 3 4 5 6 7 8 9 10 11 12"
      ]
    },
    {
      "cell_type": "code",
      "execution_count": 32,
      "metadata": {
        "id": "rUuLGwQ7H32C",
        "colab": {
          "base_uri": "https://localhost:8080/"
        },
        "outputId": "36bba94c-159f-45ca-de0f-dbd009c35ead"
      },
      "outputs": [
        {
          "output_type": "stream",
          "name": "stdout",
          "text": [
            "1 2 3 4 5 6 7 8 9 10 11 12 \n"
          ]
        }
      ],
      "source": [
        "# put your answer here\n",
        "# Define a Circular Queue class\n",
        "class CircularQueue:\n",
        "    def __init__(self, size):\n",
        "        self.queue = [None] * size\n",
        "        self.front = self.rear = -1\n",
        "        self.size = size\n",
        "\n",
        "    def is_empty(self):\n",
        "        return self.front == -1\n",
        "\n",
        "    def is_full(self):\n",
        "        return (self.rear + 1) % self.size == self.front\n",
        "\n",
        "    def enqueue(self, item):\n",
        "        if self.is_full():\n",
        "            print(\"Queue is full. Cannot enqueue.\")\n",
        "            return\n",
        "        if self.front == -1:\n",
        "            self.front = 0\n",
        "        self.rear = (self.rear + 1) % self.size\n",
        "        self.queue[self.rear] = item\n",
        "\n",
        "    def dequeue(self):\n",
        "        if self.is_empty():\n",
        "            print(\"Queue is empty. Cannot dequeue.\")\n",
        "            return\n",
        "        if self.front == self.rear:\n",
        "            temp = self.queue[self.front]\n",
        "            self.front = self.rear = -1\n",
        "        else:\n",
        "            temp = self.queue[self.front]\n",
        "            self.front = (self.front + 1) % self.size\n",
        "        return temp\n",
        "\n",
        "# Given queue\n",
        "queue = [1, 5, 3, 2, 7, 8, 10, 11, 6, 4, 12, 9]\n",
        "\n",
        "# Create a Circular Queue with the same size as the given queue\n",
        "circular_queue = CircularQueue(len(queue))\n",
        "\n",
        "# Sort the elements in the given queue\n",
        "queue.sort()\n",
        "\n",
        "# Enqueue each sorted element into the Circular Queue\n",
        "for element in queue:\n",
        "    circular_queue.enqueue(element)\n",
        "\n",
        "# Dequeue and print elements from the Circular Queue\n",
        "while not circular_queue.is_empty():\n",
        "    print(circular_queue.dequeue(), end=\" \")\n",
        "\n",
        "print()"
      ]
    }
  ],
  "metadata": {
    "colab": {
      "provenance": []
    },
    "kernelspec": {
      "display_name": "Python 3",
      "language": "python",
      "name": "python3"
    },
    "language_info": {
      "codemirror_mode": {
        "name": "ipython",
        "version": 3
      },
      "file_extension": ".py",
      "mimetype": "text/x-python",
      "name": "python",
      "nbconvert_exporter": "python",
      "pygments_lexer": "ipython3",
      "version": "3.11.4"
    },
    "orig_nbformat": 4
  },
  "nbformat": 4,
  "nbformat_minor": 0
}